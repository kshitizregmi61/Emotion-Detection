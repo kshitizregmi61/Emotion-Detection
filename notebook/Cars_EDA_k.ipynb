{
 "cells": [
  {
   "cell_type": "code",
   "execution_count": 1,
   "metadata": {},
   "outputs": [],
   "source": [
    "import pandas as pd\n",
    "import matplotlib.pyplot as plt\n",
    "import seaborn as sns\n",
    "import numpy as np"
   ]
  },
  {
   "cell_type": "code",
   "execution_count": 2,
   "metadata": {},
   "outputs": [
    {
     "name": "stderr",
     "output_type": "stream",
     "text": [
      "C:\\Users\\User\\Anaconda3\\lib\\site-packages\\IPython\\core\\interactiveshell.py:2728: DtypeWarning: Columns (7,12) have mixed types. Specify dtype option on import or set low_memory=False.\n",
      "  interactivity=interactivity, compiler=compiler, result=result)\n"
     ]
    }
   ],
   "source": [
    "df  = pd.read_csv('cars.csv',na_values=['None','nan'])"
   ]
  },
  {
   "cell_type": "code",
   "execution_count": 3,
   "metadata": {},
   "outputs": [
    {
     "data": {
      "text/html": [
       "<div>\n",
       "<style scoped>\n",
       "    .dataframe tbody tr th:only-of-type {\n",
       "        vertical-align: middle;\n",
       "    }\n",
       "\n",
       "    .dataframe tbody tr th {\n",
       "        vertical-align: top;\n",
       "    }\n",
       "\n",
       "    .dataframe thead th {\n",
       "        text-align: right;\n",
       "    }\n",
       "</style>\n",
       "<table border=\"1\" class=\"dataframe\">\n",
       "  <thead>\n",
       "    <tr style=\"text-align: right;\">\n",
       "      <th></th>\n",
       "      <th>maker</th>\n",
       "      <th>model</th>\n",
       "      <th>mileage</th>\n",
       "      <th>manufacture_year</th>\n",
       "      <th>engine_displacement</th>\n",
       "      <th>engine_power</th>\n",
       "      <th>body_type</th>\n",
       "      <th>color_slug</th>\n",
       "      <th>stk_year</th>\n",
       "      <th>transmission</th>\n",
       "      <th>door_count</th>\n",
       "      <th>seat_count</th>\n",
       "      <th>fuel_type</th>\n",
       "      <th>date_created</th>\n",
       "      <th>date_last_seen</th>\n",
       "      <th>price_eur</th>\n",
       "    </tr>\n",
       "  </thead>\n",
       "  <tbody>\n",
       "    <tr>\n",
       "      <td>0</td>\n",
       "      <td>ford</td>\n",
       "      <td>galaxy</td>\n",
       "      <td>151000.0</td>\n",
       "      <td>2011.0</td>\n",
       "      <td>2000.0</td>\n",
       "      <td>103.0</td>\n",
       "      <td>NaN</td>\n",
       "      <td>NaN</td>\n",
       "      <td>NaN</td>\n",
       "      <td>man</td>\n",
       "      <td>5.0</td>\n",
       "      <td>7.0</td>\n",
       "      <td>diesel</td>\n",
       "      <td>2015-11-14 18:10:06.838319+00</td>\n",
       "      <td>2016-01-27 20:40:15.46361+00</td>\n",
       "      <td>10584.75</td>\n",
       "    </tr>\n",
       "    <tr>\n",
       "      <td>1</td>\n",
       "      <td>skoda</td>\n",
       "      <td>octavia</td>\n",
       "      <td>143476.0</td>\n",
       "      <td>2012.0</td>\n",
       "      <td>2000.0</td>\n",
       "      <td>81.0</td>\n",
       "      <td>NaN</td>\n",
       "      <td>NaN</td>\n",
       "      <td>NaN</td>\n",
       "      <td>man</td>\n",
       "      <td>5.0</td>\n",
       "      <td>5.0</td>\n",
       "      <td>diesel</td>\n",
       "      <td>2015-11-14 18:10:06.853411+00</td>\n",
       "      <td>2016-01-27 20:40:15.46361+00</td>\n",
       "      <td>8882.31</td>\n",
       "    </tr>\n",
       "    <tr>\n",
       "      <td>2</td>\n",
       "      <td>bmw</td>\n",
       "      <td>NaN</td>\n",
       "      <td>97676.0</td>\n",
       "      <td>2010.0</td>\n",
       "      <td>1995.0</td>\n",
       "      <td>85.0</td>\n",
       "      <td>NaN</td>\n",
       "      <td>NaN</td>\n",
       "      <td>NaN</td>\n",
       "      <td>man</td>\n",
       "      <td>5.0</td>\n",
       "      <td>5.0</td>\n",
       "      <td>diesel</td>\n",
       "      <td>2015-11-14 18:10:06.861792+00</td>\n",
       "      <td>2016-01-27 20:40:15.46361+00</td>\n",
       "      <td>12065.06</td>\n",
       "    </tr>\n",
       "  </tbody>\n",
       "</table>\n",
       "</div>"
      ],
      "text/plain": [
       "   maker    model   mileage  manufacture_year  engine_displacement  \\\n",
       "0   ford   galaxy  151000.0            2011.0               2000.0   \n",
       "1  skoda  octavia  143476.0            2012.0               2000.0   \n",
       "2    bmw      NaN   97676.0            2010.0               1995.0   \n",
       "\n",
       "   engine_power body_type color_slug  stk_year transmission  door_count  \\\n",
       "0         103.0       NaN        NaN       NaN          man         5.0   \n",
       "1          81.0       NaN        NaN       NaN          man         5.0   \n",
       "2          85.0       NaN        NaN       NaN          man         5.0   \n",
       "\n",
       "   seat_count fuel_type                   date_created  \\\n",
       "0         7.0    diesel  2015-11-14 18:10:06.838319+00   \n",
       "1         5.0    diesel  2015-11-14 18:10:06.853411+00   \n",
       "2         5.0    diesel  2015-11-14 18:10:06.861792+00   \n",
       "\n",
       "                 date_last_seen  price_eur  \n",
       "0  2016-01-27 20:40:15.46361+00   10584.75  \n",
       "1  2016-01-27 20:40:15.46361+00    8882.31  \n",
       "2  2016-01-27 20:40:15.46361+00   12065.06  "
      ]
     },
     "execution_count": 3,
     "metadata": {},
     "output_type": "execute_result"
    }
   ],
   "source": [
    "df.head(3)"
   ]
  },
  {
   "cell_type": "code",
   "execution_count": 4,
   "metadata": {},
   "outputs": [
    {
     "data": {
      "text/plain": [
       "maker                   518915\n",
       "model                  1133361\n",
       "mileage                 362584\n",
       "manufacture_year        370578\n",
       "engine_displacement     743414\n",
       "engine_power            554877\n",
       "body_type              1122914\n",
       "color_slug             3343411\n",
       "stk_year               3016807\n",
       "transmission            741630\n",
       "door_count             1090066\n",
       "seat_count             1287099\n",
       "fuel_type              1847606\n",
       "date_created                 0\n",
       "date_last_seen               0\n",
       "price_eur                    0\n",
       "dtype: int64"
      ]
     },
     "execution_count": 4,
     "metadata": {},
     "output_type": "execute_result"
    }
   ],
   "source": [
    "df.isnull().sum()"
   ]
  },
  {
   "cell_type": "markdown",
   "metadata": {},
   "source": [
    "#### Find missing percent in dataframe  column"
   ]
  },
  {
   "cell_type": "code",
   "execution_count": 5,
   "metadata": {},
   "outputs": [
    {
     "data": {
      "text/html": [
       "<div>\n",
       "<style scoped>\n",
       "    .dataframe tbody tr th:only-of-type {\n",
       "        vertical-align: middle;\n",
       "    }\n",
       "\n",
       "    .dataframe tbody tr th {\n",
       "        vertical-align: top;\n",
       "    }\n",
       "\n",
       "    .dataframe thead th {\n",
       "        text-align: right;\n",
       "    }\n",
       "</style>\n",
       "<table border=\"1\" class=\"dataframe\">\n",
       "  <thead>\n",
       "    <tr style=\"text-align: right;\">\n",
       "      <th></th>\n",
       "      <th>column_name</th>\n",
       "      <th>percent_missing</th>\n",
       "    </tr>\n",
       "  </thead>\n",
       "  <tbody>\n",
       "    <tr>\n",
       "      <td>color_slug</td>\n",
       "      <td>color_slug</td>\n",
       "      <td>94.103400</td>\n",
       "    </tr>\n",
       "    <tr>\n",
       "      <td>stk_year</td>\n",
       "      <td>stk_year</td>\n",
       "      <td>84.910828</td>\n",
       "    </tr>\n",
       "    <tr>\n",
       "      <td>fuel_type</td>\n",
       "      <td>fuel_type</td>\n",
       "      <td>52.002583</td>\n",
       "    </tr>\n",
       "    <tr>\n",
       "      <td>seat_count</td>\n",
       "      <td>seat_count</td>\n",
       "      <td>36.226594</td>\n",
       "    </tr>\n",
       "    <tr>\n",
       "      <td>model</td>\n",
       "      <td>model</td>\n",
       "      <td>31.899495</td>\n",
       "    </tr>\n",
       "    <tr>\n",
       "      <td>body_type</td>\n",
       "      <td>body_type</td>\n",
       "      <td>31.605455</td>\n",
       "    </tr>\n",
       "    <tr>\n",
       "      <td>door_count</td>\n",
       "      <td>door_count</td>\n",
       "      <td>30.680918</td>\n",
       "    </tr>\n",
       "    <tr>\n",
       "      <td>engine_displacement</td>\n",
       "      <td>engine_displacement</td>\n",
       "      <td>20.924076</td>\n",
       "    </tr>\n",
       "    <tr>\n",
       "      <td>transmission</td>\n",
       "      <td>transmission</td>\n",
       "      <td>20.873863</td>\n",
       "    </tr>\n",
       "    <tr>\n",
       "      <td>engine_power</td>\n",
       "      <td>engine_power</td>\n",
       "      <td>15.617527</td>\n",
       "    </tr>\n",
       "    <tr>\n",
       "      <td>maker</td>\n",
       "      <td>maker</td>\n",
       "      <td>14.605343</td>\n",
       "    </tr>\n",
       "    <tr>\n",
       "      <td>manufacture_year</td>\n",
       "      <td>manufacture_year</td>\n",
       "      <td>10.430261</td>\n",
       "    </tr>\n",
       "    <tr>\n",
       "      <td>mileage</td>\n",
       "      <td>mileage</td>\n",
       "      <td>10.205263</td>\n",
       "    </tr>\n",
       "    <tr>\n",
       "      <td>date_created</td>\n",
       "      <td>date_created</td>\n",
       "      <td>0.000000</td>\n",
       "    </tr>\n",
       "    <tr>\n",
       "      <td>date_last_seen</td>\n",
       "      <td>date_last_seen</td>\n",
       "      <td>0.000000</td>\n",
       "    </tr>\n",
       "    <tr>\n",
       "      <td>price_eur</td>\n",
       "      <td>price_eur</td>\n",
       "      <td>0.000000</td>\n",
       "    </tr>\n",
       "  </tbody>\n",
       "</table>\n",
       "</div>"
      ],
      "text/plain": [
       "                             column_name  percent_missing\n",
       "color_slug                    color_slug        94.103400\n",
       "stk_year                        stk_year        84.910828\n",
       "fuel_type                      fuel_type        52.002583\n",
       "seat_count                    seat_count        36.226594\n",
       "model                              model        31.899495\n",
       "body_type                      body_type        31.605455\n",
       "door_count                    door_count        30.680918\n",
       "engine_displacement  engine_displacement        20.924076\n",
       "transmission                transmission        20.873863\n",
       "engine_power                engine_power        15.617527\n",
       "maker                              maker        14.605343\n",
       "manufacture_year        manufacture_year        10.430261\n",
       "mileage                          mileage        10.205263\n",
       "date_created                date_created         0.000000\n",
       "date_last_seen            date_last_seen         0.000000\n",
       "price_eur                      price_eur         0.000000"
      ]
     },
     "execution_count": 5,
     "metadata": {},
     "output_type": "execute_result"
    }
   ],
   "source": [
    "percent_missing = df.isnull().sum() * 100 / len(df)\n",
    "missing_value_df = pd.DataFrame({'column_name': df.columns,\n",
    "                                 'percent_missing': percent_missing})\n",
    "missing_value_df.sort_values('percent_missing', inplace=True,ascending=False)\n",
    "missing_value_df"
   ]
  },
  {
   "cell_type": "markdown",
   "metadata": {},
   "source": [
    "Remove some columns from avobe percentage of missing values(>30%). Remove dates."
   ]
  },
  {
   "cell_type": "code",
   "execution_count": 6,
   "metadata": {},
   "outputs": [],
   "source": [
    "df.drop(['model', 'fuel_type','date_created','date_last_seen','manufacture_year','stk_year','body_type', 'color_slug'], axis=1, inplace=True)"
   ]
  },
  {
   "cell_type": "code",
   "execution_count": 7,
   "metadata": {},
   "outputs": [
    {
     "data": {
      "text/html": [
       "<div>\n",
       "<style scoped>\n",
       "    .dataframe tbody tr th:only-of-type {\n",
       "        vertical-align: middle;\n",
       "    }\n",
       "\n",
       "    .dataframe tbody tr th {\n",
       "        vertical-align: top;\n",
       "    }\n",
       "\n",
       "    .dataframe thead th {\n",
       "        text-align: right;\n",
       "    }\n",
       "</style>\n",
       "<table border=\"1\" class=\"dataframe\">\n",
       "  <thead>\n",
       "    <tr style=\"text-align: right;\">\n",
       "      <th></th>\n",
       "      <th>maker</th>\n",
       "      <th>mileage</th>\n",
       "      <th>engine_displacement</th>\n",
       "      <th>engine_power</th>\n",
       "      <th>transmission</th>\n",
       "      <th>door_count</th>\n",
       "      <th>seat_count</th>\n",
       "      <th>price_eur</th>\n",
       "    </tr>\n",
       "  </thead>\n",
       "  <tbody>\n",
       "    <tr>\n",
       "      <td>0</td>\n",
       "      <td>ford</td>\n",
       "      <td>151000.0</td>\n",
       "      <td>2000.0</td>\n",
       "      <td>103.0</td>\n",
       "      <td>man</td>\n",
       "      <td>5.0</td>\n",
       "      <td>7.0</td>\n",
       "      <td>10584.75</td>\n",
       "    </tr>\n",
       "    <tr>\n",
       "      <td>1</td>\n",
       "      <td>skoda</td>\n",
       "      <td>143476.0</td>\n",
       "      <td>2000.0</td>\n",
       "      <td>81.0</td>\n",
       "      <td>man</td>\n",
       "      <td>5.0</td>\n",
       "      <td>5.0</td>\n",
       "      <td>8882.31</td>\n",
       "    </tr>\n",
       "    <tr>\n",
       "      <td>2</td>\n",
       "      <td>bmw</td>\n",
       "      <td>97676.0</td>\n",
       "      <td>1995.0</td>\n",
       "      <td>85.0</td>\n",
       "      <td>man</td>\n",
       "      <td>5.0</td>\n",
       "      <td>5.0</td>\n",
       "      <td>12065.06</td>\n",
       "    </tr>\n",
       "    <tr>\n",
       "      <td>3</td>\n",
       "      <td>skoda</td>\n",
       "      <td>111970.0</td>\n",
       "      <td>1200.0</td>\n",
       "      <td>47.0</td>\n",
       "      <td>man</td>\n",
       "      <td>5.0</td>\n",
       "      <td>5.0</td>\n",
       "      <td>2960.77</td>\n",
       "    </tr>\n",
       "    <tr>\n",
       "      <td>4</td>\n",
       "      <td>skoda</td>\n",
       "      <td>128886.0</td>\n",
       "      <td>1200.0</td>\n",
       "      <td>47.0</td>\n",
       "      <td>man</td>\n",
       "      <td>5.0</td>\n",
       "      <td>5.0</td>\n",
       "      <td>2738.71</td>\n",
       "    </tr>\n",
       "  </tbody>\n",
       "</table>\n",
       "</div>"
      ],
      "text/plain": [
       "   maker   mileage  engine_displacement  engine_power transmission  \\\n",
       "0   ford  151000.0               2000.0         103.0          man   \n",
       "1  skoda  143476.0               2000.0          81.0          man   \n",
       "2    bmw   97676.0               1995.0          85.0          man   \n",
       "3  skoda  111970.0               1200.0          47.0          man   \n",
       "4  skoda  128886.0               1200.0          47.0          man   \n",
       "\n",
       "   door_count  seat_count  price_eur  \n",
       "0         5.0         7.0   10584.75  \n",
       "1         5.0         5.0    8882.31  \n",
       "2         5.0         5.0   12065.06  \n",
       "3         5.0         5.0    2960.77  \n",
       "4         5.0         5.0    2738.71  "
      ]
     },
     "execution_count": 7,
     "metadata": {},
     "output_type": "execute_result"
    }
   ],
   "source": [
    "df.head()"
   ]
  },
  {
   "cell_type": "markdown",
   "metadata": {},
   "source": [
    "show table"
   ]
  },
  {
   "cell_type": "code",
   "execution_count": 8,
   "metadata": {},
   "outputs": [
    {
     "data": {
      "text/html": [
       "<div>\n",
       "<style scoped>\n",
       "    .dataframe tbody tr th:only-of-type {\n",
       "        vertical-align: middle;\n",
       "    }\n",
       "\n",
       "    .dataframe tbody tr th {\n",
       "        vertical-align: top;\n",
       "    }\n",
       "\n",
       "    .dataframe thead th {\n",
       "        text-align: right;\n",
       "    }\n",
       "</style>\n",
       "<table border=\"1\" class=\"dataframe\">\n",
       "  <thead>\n",
       "    <tr style=\"text-align: right;\">\n",
       "      <th></th>\n",
       "      <th>maker</th>\n",
       "      <th>mileage</th>\n",
       "      <th>engine_displacement</th>\n",
       "      <th>engine_power</th>\n",
       "      <th>transmission</th>\n",
       "      <th>door_count</th>\n",
       "      <th>seat_count</th>\n",
       "      <th>price_eur</th>\n",
       "    </tr>\n",
       "  </thead>\n",
       "  <tbody>\n",
       "    <tr>\n",
       "      <td>0</td>\n",
       "      <td>ford</td>\n",
       "      <td>151000.0</td>\n",
       "      <td>2000.0</td>\n",
       "      <td>103.0</td>\n",
       "      <td>man</td>\n",
       "      <td>5.0</td>\n",
       "      <td>7.0</td>\n",
       "      <td>10584.75</td>\n",
       "    </tr>\n",
       "    <tr>\n",
       "      <td>1</td>\n",
       "      <td>skoda</td>\n",
       "      <td>143476.0</td>\n",
       "      <td>2000.0</td>\n",
       "      <td>81.0</td>\n",
       "      <td>man</td>\n",
       "      <td>5.0</td>\n",
       "      <td>5.0</td>\n",
       "      <td>8882.31</td>\n",
       "    </tr>\n",
       "  </tbody>\n",
       "</table>\n",
       "</div>"
      ],
      "text/plain": [
       "   maker   mileage  engine_displacement  engine_power transmission  \\\n",
       "0   ford  151000.0               2000.0         103.0          man   \n",
       "1  skoda  143476.0               2000.0          81.0          man   \n",
       "\n",
       "   door_count  seat_count  price_eur  \n",
       "0         5.0         7.0   10584.75  \n",
       "1         5.0         5.0    8882.31  "
      ]
     },
     "execution_count": 8,
     "metadata": {},
     "output_type": "execute_result"
    }
   ],
   "source": [
    "df.head(2)"
   ]
  },
  {
   "cell_type": "markdown",
   "metadata": {},
   "source": [
    "Describe the table to know what to impute in continous variable data."
   ]
  },
  {
   "cell_type": "code",
   "execution_count": 9,
   "metadata": {},
   "outputs": [
    {
     "data": {
      "text/html": [
       "<div>\n",
       "<style scoped>\n",
       "    .dataframe tbody tr th:only-of-type {\n",
       "        vertical-align: middle;\n",
       "    }\n",
       "\n",
       "    .dataframe tbody tr th {\n",
       "        vertical-align: top;\n",
       "    }\n",
       "\n",
       "    .dataframe thead th {\n",
       "        text-align: right;\n",
       "    }\n",
       "</style>\n",
       "<table border=\"1\" class=\"dataframe\">\n",
       "  <thead>\n",
       "    <tr style=\"text-align: right;\">\n",
       "      <th></th>\n",
       "      <th>mileage</th>\n",
       "      <th>engine_displacement</th>\n",
       "      <th>engine_power</th>\n",
       "      <th>door_count</th>\n",
       "      <th>seat_count</th>\n",
       "      <th>price_eur</th>\n",
       "    </tr>\n",
       "  </thead>\n",
       "  <tbody>\n",
       "    <tr>\n",
       "      <td>count</td>\n",
       "      <td>3.190328e+06</td>\n",
       "      <td>2.809498e+06</td>\n",
       "      <td>2.998035e+06</td>\n",
       "      <td>2.462846e+06</td>\n",
       "      <td>2.265813e+06</td>\n",
       "      <td>3.552912e+06</td>\n",
       "    </tr>\n",
       "    <tr>\n",
       "      <td>mean</td>\n",
       "      <td>1.158140e+05</td>\n",
       "      <td>2.043958e+03</td>\n",
       "      <td>9.846796e+01</td>\n",
       "      <td>4.052180e+00</td>\n",
       "      <td>4.869694e+00</td>\n",
       "      <td>1.625812e+06</td>\n",
       "    </tr>\n",
       "    <tr>\n",
       "      <td>std</td>\n",
       "      <td>3.422508e+05</td>\n",
       "      <td>1.973958e+03</td>\n",
       "      <td>4.907309e+01</td>\n",
       "      <td>9.911850e-01</td>\n",
       "      <td>1.212611e+00</td>\n",
       "      <td>2.025622e+09</td>\n",
       "    </tr>\n",
       "    <tr>\n",
       "      <td>min</td>\n",
       "      <td>0.000000e+00</td>\n",
       "      <td>0.000000e+00</td>\n",
       "      <td>1.000000e+00</td>\n",
       "      <td>0.000000e+00</td>\n",
       "      <td>0.000000e+00</td>\n",
       "      <td>4.000000e-02</td>\n",
       "    </tr>\n",
       "    <tr>\n",
       "      <td>25%</td>\n",
       "      <td>1.880000e+04</td>\n",
       "      <td>1.400000e+03</td>\n",
       "      <td>6.800000e+01</td>\n",
       "      <td>4.000000e+00</td>\n",
       "      <td>5.000000e+00</td>\n",
       "      <td>1.295340e+03</td>\n",
       "    </tr>\n",
       "    <tr>\n",
       "      <td>50%</td>\n",
       "      <td>8.641500e+04</td>\n",
       "      <td>1.798000e+03</td>\n",
       "      <td>8.600000e+01</td>\n",
       "      <td>4.000000e+00</td>\n",
       "      <td>5.000000e+00</td>\n",
       "      <td>7.364910e+03</td>\n",
       "    </tr>\n",
       "    <tr>\n",
       "      <td>75%</td>\n",
       "      <td>1.580250e+05</td>\n",
       "      <td>1.997000e+03</td>\n",
       "      <td>1.100000e+02</td>\n",
       "      <td>5.000000e+00</td>\n",
       "      <td>5.000000e+00</td>\n",
       "      <td>1.628423e+04</td>\n",
       "    </tr>\n",
       "    <tr>\n",
       "      <td>max</td>\n",
       "      <td>9.999999e+06</td>\n",
       "      <td>3.276700e+04</td>\n",
       "      <td>2.237000e+03</td>\n",
       "      <td>7.700000e+01</td>\n",
       "      <td>5.170000e+02</td>\n",
       "      <td>2.706149e+12</td>\n",
       "    </tr>\n",
       "  </tbody>\n",
       "</table>\n",
       "</div>"
      ],
      "text/plain": [
       "            mileage  engine_displacement  engine_power    door_count  \\\n",
       "count  3.190328e+06         2.809498e+06  2.998035e+06  2.462846e+06   \n",
       "mean   1.158140e+05         2.043958e+03  9.846796e+01  4.052180e+00   \n",
       "std    3.422508e+05         1.973958e+03  4.907309e+01  9.911850e-01   \n",
       "min    0.000000e+00         0.000000e+00  1.000000e+00  0.000000e+00   \n",
       "25%    1.880000e+04         1.400000e+03  6.800000e+01  4.000000e+00   \n",
       "50%    8.641500e+04         1.798000e+03  8.600000e+01  4.000000e+00   \n",
       "75%    1.580250e+05         1.997000e+03  1.100000e+02  5.000000e+00   \n",
       "max    9.999999e+06         3.276700e+04  2.237000e+03  7.700000e+01   \n",
       "\n",
       "         seat_count     price_eur  \n",
       "count  2.265813e+06  3.552912e+06  \n",
       "mean   4.869694e+00  1.625812e+06  \n",
       "std    1.212611e+00  2.025622e+09  \n",
       "min    0.000000e+00  4.000000e-02  \n",
       "25%    5.000000e+00  1.295340e+03  \n",
       "50%    5.000000e+00  7.364910e+03  \n",
       "75%    5.000000e+00  1.628423e+04  \n",
       "max    5.170000e+02  2.706149e+12  "
      ]
     },
     "execution_count": 9,
     "metadata": {},
     "output_type": "execute_result"
    }
   ],
   "source": [
    "df.describe()"
   ]
  },
  {
   "cell_type": "markdown",
   "metadata": {},
   "source": [
    "###### If mean> median impute median because data contains extreme values."
   ]
  },
  {
   "cell_type": "markdown",
   "metadata": {},
   "source": [
    "### Fill nan values of `mileage` , `engine_displacement` and `engine_power` column."
   ]
  },
  {
   "cell_type": "code",
   "execution_count": 10,
   "metadata": {},
   "outputs": [],
   "source": [
    "df['mileage'].fillna((df['mileage'].median()), inplace=True)\n",
    "df['engine_displacement'].fillna((df['engine_displacement'].median()), inplace=True)\n",
    "df['engine_power'].fillna((df['engine_power'].median()), inplace=True)"
   ]
  },
  {
   "cell_type": "code",
   "execution_count": 11,
   "metadata": {},
   "outputs": [
    {
     "data": {
      "text/plain": [
       "maker                   518915\n",
       "mileage                      0\n",
       "engine_displacement          0\n",
       "engine_power                 0\n",
       "transmission            741630\n",
       "door_count             1090066\n",
       "seat_count             1287099\n",
       "price_eur                    0\n",
       "dtype: int64"
      ]
     },
     "execution_count": 11,
     "metadata": {},
     "output_type": "execute_result"
    }
   ],
   "source": [
    "df.isnull().sum()"
   ]
  },
  {
   "cell_type": "code",
   "execution_count": 12,
   "metadata": {},
   "outputs": [
    {
     "data": {
      "text/html": [
       "<div>\n",
       "<style scoped>\n",
       "    .dataframe tbody tr th:only-of-type {\n",
       "        vertical-align: middle;\n",
       "    }\n",
       "\n",
       "    .dataframe tbody tr th {\n",
       "        vertical-align: top;\n",
       "    }\n",
       "\n",
       "    .dataframe thead th {\n",
       "        text-align: right;\n",
       "    }\n",
       "</style>\n",
       "<table border=\"1\" class=\"dataframe\">\n",
       "  <thead>\n",
       "    <tr style=\"text-align: right;\">\n",
       "      <th></th>\n",
       "      <th>mileage</th>\n",
       "      <th>engine_displacement</th>\n",
       "      <th>engine_power</th>\n",
       "      <th>door_count</th>\n",
       "      <th>seat_count</th>\n",
       "      <th>price_eur</th>\n",
       "    </tr>\n",
       "  </thead>\n",
       "  <tbody>\n",
       "    <tr>\n",
       "      <td>mileage</td>\n",
       "      <td>1.000000</td>\n",
       "      <td>0.077486</td>\n",
       "      <td>-0.008825</td>\n",
       "      <td>0.022303</td>\n",
       "      <td>0.022289</td>\n",
       "      <td>-0.000162</td>\n",
       "    </tr>\n",
       "    <tr>\n",
       "      <td>engine_displacement</td>\n",
       "      <td>0.077486</td>\n",
       "      <td>1.000000</td>\n",
       "      <td>0.256916</td>\n",
       "      <td>-0.049912</td>\n",
       "      <td>-0.030047</td>\n",
       "      <td>0.002721</td>\n",
       "    </tr>\n",
       "    <tr>\n",
       "      <td>engine_power</td>\n",
       "      <td>-0.008825</td>\n",
       "      <td>0.256916</td>\n",
       "      <td>1.000000</td>\n",
       "      <td>-0.065297</td>\n",
       "      <td>-0.035215</td>\n",
       "      <td>-0.000178</td>\n",
       "    </tr>\n",
       "    <tr>\n",
       "      <td>door_count</td>\n",
       "      <td>0.022303</td>\n",
       "      <td>-0.049912</td>\n",
       "      <td>-0.065297</td>\n",
       "      <td>1.000000</td>\n",
       "      <td>0.304062</td>\n",
       "      <td>-0.003450</td>\n",
       "    </tr>\n",
       "    <tr>\n",
       "      <td>seat_count</td>\n",
       "      <td>0.022289</td>\n",
       "      <td>-0.030047</td>\n",
       "      <td>-0.035215</td>\n",
       "      <td>0.304062</td>\n",
       "      <td>1.000000</td>\n",
       "      <td>-0.001692</td>\n",
       "    </tr>\n",
       "    <tr>\n",
       "      <td>price_eur</td>\n",
       "      <td>-0.000162</td>\n",
       "      <td>0.002721</td>\n",
       "      <td>-0.000178</td>\n",
       "      <td>-0.003450</td>\n",
       "      <td>-0.001692</td>\n",
       "      <td>1.000000</td>\n",
       "    </tr>\n",
       "  </tbody>\n",
       "</table>\n",
       "</div>"
      ],
      "text/plain": [
       "                      mileage  engine_displacement  engine_power  door_count  \\\n",
       "mileage              1.000000             0.077486     -0.008825    0.022303   \n",
       "engine_displacement  0.077486             1.000000      0.256916   -0.049912   \n",
       "engine_power        -0.008825             0.256916      1.000000   -0.065297   \n",
       "door_count           0.022303            -0.049912     -0.065297    1.000000   \n",
       "seat_count           0.022289            -0.030047     -0.035215    0.304062   \n",
       "price_eur           -0.000162             0.002721     -0.000178   -0.003450   \n",
       "\n",
       "                     seat_count  price_eur  \n",
       "mileage                0.022289  -0.000162  \n",
       "engine_displacement   -0.030047   0.002721  \n",
       "engine_power          -0.035215  -0.000178  \n",
       "door_count             0.304062  -0.003450  \n",
       "seat_count             1.000000  -0.001692  \n",
       "price_eur             -0.001692   1.000000  "
      ]
     },
     "execution_count": 12,
     "metadata": {},
     "output_type": "execute_result"
    }
   ],
   "source": [
    "df.corr()"
   ]
  },
  {
   "cell_type": "markdown",
   "metadata": {},
   "source": [
    "##### Histogramplot to see distribution of data(continuous)"
   ]
  },
  {
   "cell_type": "code",
   "execution_count": 13,
   "metadata": {},
   "outputs": [
    {
     "data": {
      "text/plain": [
       "<matplotlib.axes._subplots.AxesSubplot at 0x2338376c048>"
      ]
     },
     "execution_count": 13,
     "metadata": {},
     "output_type": "execute_result"
    },
    {
     "data": {
      "image/png": "[encoded data removed]",
      "text/plain": [
       "<Figure size 720x360 with 4 Axes>"
      ]
     },
     "metadata": {
      "needs_background": "light"
     },
     "output_type": "display_data"
    }
   ],
   "source": [
    "f, axes = plt.subplots(2, 2 , figsize=(10,5))\n",
    "plt.subplots_adjust(hspace=0.5,wspace=0.5)\n",
    "sns.distplot(df['mileage'],ax=axes[0][0])\n",
    "sns.distplot(df['engine_displacement'], ax=axes[0][1])\n",
    "sns.distplot(df['engine_power'],ax=axes[1][0])\n",
    "sns.distplot(df['price_eur'],ax=axes[1][1])"
   ]
  },
  {
   "cell_type": "markdown",
   "metadata": {},
   "source": [
    "Right skewed data."
   ]
  },
  {
   "cell_type": "markdown",
   "metadata": {},
   "source": [
    "# Two way table"
   ]
  },
  {
   "cell_type": "markdown",
   "metadata": {},
   "source": [
    "Let's check relationship between two object type data variables."
   ]
  },
  {
   "cell_type": "markdown",
   "metadata": {},
   "source": [
    "###### Relationship between maker type and transmission type"
   ]
  },
  {
   "cell_type": "code",
   "execution_count": 14,
   "metadata": {},
   "outputs": [],
   "source": [
    "mak_tra = pd.crosstab(index=df['maker'],columns=df['transmission'],dropna=True) "
   ]
  },
  {
   "cell_type": "code",
   "execution_count": 15,
   "metadata": {},
   "outputs": [
    {
     "data": {
      "text/html": [
       "<div>\n",
       "<style scoped>\n",
       "    .dataframe tbody tr th:only-of-type {\n",
       "        vertical-align: middle;\n",
       "    }\n",
       "\n",
       "    .dataframe tbody tr th {\n",
       "        vertical-align: top;\n",
       "    }\n",
       "\n",
       "    .dataframe thead th {\n",
       "        text-align: right;\n",
       "    }\n",
       "</style>\n",
       "<table border=\"1\" class=\"dataframe\">\n",
       "  <thead>\n",
       "    <tr style=\"text-align: right;\">\n",
       "      <th>transmission</th>\n",
       "      <th>auto</th>\n",
       "      <th>man</th>\n",
       "    </tr>\n",
       "    <tr>\n",
       "      <th>maker</th>\n",
       "      <th></th>\n",
       "      <th></th>\n",
       "    </tr>\n",
       "  </thead>\n",
       "  <tbody>\n",
       "    <tr>\n",
       "      <td>alfa-romeo</td>\n",
       "      <td>292</td>\n",
       "      <td>2337</td>\n",
       "    </tr>\n",
       "    <tr>\n",
       "      <td>aston-martin</td>\n",
       "      <td>8</td>\n",
       "      <td>1</td>\n",
       "    </tr>\n",
       "    <tr>\n",
       "      <td>audi</td>\n",
       "      <td>103239</td>\n",
       "      <td>108744</td>\n",
       "    </tr>\n",
       "    <tr>\n",
       "      <td>bentley</td>\n",
       "      <td>966</td>\n",
       "      <td>25</td>\n",
       "    </tr>\n",
       "    <tr>\n",
       "      <td>bmw</td>\n",
       "      <td>119060</td>\n",
       "      <td>103998</td>\n",
       "    </tr>\n",
       "  </tbody>\n",
       "</table>\n",
       "</div>"
      ],
      "text/plain": [
       "transmission    auto     man\n",
       "maker                       \n",
       "alfa-romeo       292    2337\n",
       "aston-martin       8       1\n",
       "audi          103239  108744\n",
       "bentley          966      25\n",
       "bmw           119060  103998"
      ]
     },
     "execution_count": 15,
     "metadata": {},
     "output_type": "execute_result"
    }
   ],
   "source": [
    "mak_tra.head()"
   ]
  },
  {
   "cell_type": "markdown",
   "metadata": {},
   "source": [
    "Fill auto type in nan values of given list of makers (fill_auto_given_maker)"
   ]
  },
  {
   "cell_type": "code",
   "execution_count": 16,
   "metadata": {},
   "outputs": [
    {
     "data": {
      "text/html": [
       "<div>\n",
       "<style scoped>\n",
       "    .dataframe tbody tr th:only-of-type {\n",
       "        vertical-align: middle;\n",
       "    }\n",
       "\n",
       "    .dataframe tbody tr th {\n",
       "        vertical-align: top;\n",
       "    }\n",
       "\n",
       "    .dataframe thead th {\n",
       "        text-align: right;\n",
       "    }\n",
       "</style>\n",
       "<table border=\"1\" class=\"dataframe\">\n",
       "  <thead>\n",
       "    <tr style=\"text-align: right;\">\n",
       "      <th>transmission</th>\n",
       "      <th>auto</th>\n",
       "      <th>man</th>\n",
       "    </tr>\n",
       "    <tr>\n",
       "      <th>maker</th>\n",
       "      <th></th>\n",
       "      <th></th>\n",
       "    </tr>\n",
       "  </thead>\n",
       "  <tbody>\n",
       "    <tr>\n",
       "      <td>aston-martin</td>\n",
       "      <td>8</td>\n",
       "      <td>1</td>\n",
       "    </tr>\n",
       "    <tr>\n",
       "      <td>bentley</td>\n",
       "      <td>966</td>\n",
       "      <td>25</td>\n",
       "    </tr>\n",
       "    <tr>\n",
       "      <td>bmw</td>\n",
       "      <td>119060</td>\n",
       "      <td>103998</td>\n",
       "    </tr>\n",
       "  </tbody>\n",
       "</table>\n",
       "</div>"
      ],
      "text/plain": [
       "transmission    auto     man\n",
       "maker                       \n",
       "aston-martin       8       1\n",
       "bentley          966      25\n",
       "bmw           119060  103998"
      ]
     },
     "execution_count": 16,
     "metadata": {},
     "output_type": "execute_result"
    }
   ],
   "source": [
    "mak_tra.loc[mak_tra['auto'] >= mak_tra['man'] ].head(3) "
   ]
  },
  {
   "cell_type": "markdown",
   "metadata": {},
   "source": [
    "Given a makertype bentley 966 cars are auto and 25 cars are mannual. You can clearly see most of the cars if manufactured by bentley are automatic. You can use it to fill nan values instead of filling using mode value.\n",
    "\n",
    "__This will be implemented later.__\n",
    "\n",
    "In this notebook I will fill nan values using mode value. This is just for a knowledge purpose"
   ]
  },
  {
   "cell_type": "code",
   "execution_count": 17,
   "metadata": {},
   "outputs": [],
   "source": [
    "fill_auto_given_maker = list(mak_tra.loc[mak_tra['auto'] >= mak_tra['man'] ].index)\n",
    "fill_man_given_maker = list(mak_tra.loc[mak_tra['auto'] < mak_tra['man'] ].index)"
   ]
  },
  {
   "cell_type": "markdown",
   "metadata": {},
   "source": [
    "__Below are the makertype that has most of it's cars type/transmisson auto__"
   ]
  },
  {
   "cell_type": "code",
   "execution_count": 18,
   "metadata": {},
   "outputs": [
    {
     "data": {
      "text/plain": [
       "['aston-martin',\n",
       " 'bentley',\n",
       " 'bmw',\n",
       " 'chrysler',\n",
       " 'dodge',\n",
       " 'hummer',\n",
       " 'infinity',\n",
       " 'jaguar']"
      ]
     },
     "execution_count": 18,
     "metadata": {},
     "output_type": "execute_result"
    }
   ],
   "source": [
    "fill_auto_given_maker[:8]"
   ]
  },
  {
   "cell_type": "markdown",
   "metadata": {},
   "source": [
    "__Below are the makertype that has most of it's cars type/transmisson man__"
   ]
  },
  {
   "cell_type": "code",
   "execution_count": 19,
   "metadata": {},
   "outputs": [
    {
     "data": {
      "text/plain": [
       "['alfa-romeo',\n",
       " 'audi',\n",
       " 'chevrolet',\n",
       " 'citroen',\n",
       " 'dacia',\n",
       " 'fiat',\n",
       " 'ford',\n",
       " 'honda']"
      ]
     },
     "execution_count": 19,
     "metadata": {},
     "output_type": "execute_result"
    }
   ],
   "source": [
    "fill_man_given_maker[:8]"
   ]
  },
  {
   "cell_type": "markdown",
   "metadata": {},
   "source": [
    "lets see dataset description on object type column."
   ]
  },
  {
   "cell_type": "code",
   "execution_count": 20,
   "metadata": {},
   "outputs": [
    {
     "data": {
      "text/html": [
       "<div>\n",
       "<style scoped>\n",
       "    .dataframe tbody tr th:only-of-type {\n",
       "        vertical-align: middle;\n",
       "    }\n",
       "\n",
       "    .dataframe tbody tr th {\n",
       "        vertical-align: top;\n",
       "    }\n",
       "\n",
       "    .dataframe thead th {\n",
       "        text-align: right;\n",
       "    }\n",
       "</style>\n",
       "<table border=\"1\" class=\"dataframe\">\n",
       "  <thead>\n",
       "    <tr style=\"text-align: right;\">\n",
       "      <th></th>\n",
       "      <th>maker</th>\n",
       "      <th>transmission</th>\n",
       "    </tr>\n",
       "  </thead>\n",
       "  <tbody>\n",
       "    <tr>\n",
       "      <td>count</td>\n",
       "      <td>3033997</td>\n",
       "      <td>2811282</td>\n",
       "    </tr>\n",
       "    <tr>\n",
       "      <td>unique</td>\n",
       "      <td>46</td>\n",
       "      <td>2</td>\n",
       "    </tr>\n",
       "    <tr>\n",
       "      <td>top</td>\n",
       "      <td>skoda</td>\n",
       "      <td>man</td>\n",
       "    </tr>\n",
       "    <tr>\n",
       "      <td>freq</td>\n",
       "      <td>313830</td>\n",
       "      <td>2021990</td>\n",
       "    </tr>\n",
       "  </tbody>\n",
       "</table>\n",
       "</div>"
      ],
      "text/plain": [
       "          maker transmission\n",
       "count   3033997      2811282\n",
       "unique       46            2\n",
       "top       skoda          man\n",
       "freq     313830      2021990"
      ]
     },
     "execution_count": 20,
     "metadata": {},
     "output_type": "execute_result"
    }
   ],
   "source": [
    "df.describe(include=\"O\")"
   ]
  },
  {
   "cell_type": "markdown",
   "metadata": {},
   "source": [
    "__In the above table transmission type has two unique value, `man` being most frequent.As I have already mentioned lets fill `nan` values of object type column using mode.__"
   ]
  },
  {
   "cell_type": "code",
   "execution_count": 21,
   "metadata": {},
   "outputs": [
    {
     "data": {
      "text/plain": [
       "maker                   518915\n",
       "mileage                      0\n",
       "engine_displacement          0\n",
       "engine_power                 0\n",
       "transmission            741630\n",
       "door_count             1090066\n",
       "seat_count             1287099\n",
       "price_eur                    0\n",
       "dtype: int64"
      ]
     },
     "execution_count": 21,
     "metadata": {},
     "output_type": "execute_result"
    }
   ],
   "source": [
    "df.isnull().sum()"
   ]
  },
  {
   "cell_type": "markdown",
   "metadata": {},
   "source": [
    "#### Impute most repeated value in maker, transmission, door_count, and seat_count variable"
   ]
  },
  {
   "cell_type": "code",
   "execution_count": 22,
   "metadata": {},
   "outputs": [],
   "source": [
    "df['maker'].fillna(df['maker'].mode()[0], inplace=True) \n",
    "df['transmission'].fillna(df['transmission'].mode()[0], inplace=True) "
   ]
  },
  {
   "cell_type": "code",
   "execution_count": 23,
   "metadata": {},
   "outputs": [],
   "source": [
    "df['door_count'].fillna(df['door_count'].mode()[0], inplace=True) \n",
    "df['seat_count'].fillna(df['seat_count'].mode()[0], inplace=True) "
   ]
  },
  {
   "cell_type": "code",
   "execution_count": 24,
   "metadata": {},
   "outputs": [
    {
     "data": {
      "text/plain": [
       "maker                  0\n",
       "mileage                0\n",
       "engine_displacement    0\n",
       "engine_power           0\n",
       "transmission           0\n",
       "door_count             0\n",
       "seat_count             0\n",
       "price_eur              0\n",
       "dtype: int64"
      ]
     },
     "execution_count": 24,
     "metadata": {},
     "output_type": "execute_result"
    }
   ],
   "source": [
    "df.isnull().sum()"
   ]
  },
  {
   "cell_type": "markdown",
   "metadata": {},
   "source": [
    "Let's do pairplot to see relationship between data variables."
   ]
  },
  {
   "cell_type": "markdown",
   "metadata": {},
   "source": [
    "###### Barplot to see categorical type dataset."
   ]
  },
  {
   "cell_type": "code",
   "execution_count": 25,
   "metadata": {},
   "outputs": [
    {
     "data": {
      "text/plain": [
       "<matplotlib.axes._subplots.AxesSubplot at 0x23383b258c8>"
      ]
     },
     "execution_count": 25,
     "metadata": {},
     "output_type": "execute_result"
    },
    {
     "data": {
      "image/png": "[encoded data removed]",
      "text/plain": [
       "<Figure size 3600x1440 with 1 Axes>"
      ]
     },
     "metadata": {},
     "output_type": "display_data"
    }
   ],
   "source": [
    "sns.set(rc={'figure.figsize':(50,20)})\n",
    "sns.countplot(x = 'door_count', data = df)"
   ]
  },
  {
   "cell_type": "code",
   "execution_count": 26,
   "metadata": {},
   "outputs": [
    {
     "data": {
      "text/plain": [
       "array([ 5.,  3.,  4.,  2.,  6.,  1.,  7.,  9.,  8., 77., 58., 54.,  0.,\n",
       "       55., 22., 45., 17., 49.])"
      ]
     },
     "execution_count": 26,
     "metadata": {},
     "output_type": "execute_result"
    }
   ],
   "source": [
    "df.door_count.unique()"
   ]
  },
  {
   "cell_type": "markdown",
   "metadata": {},
   "source": [
    "###### This is interesting a car with 77 doors . And another interesting value is 0. 0 doors??"
   ]
  },
  {
   "cell_type": "code",
   "execution_count": 27,
   "metadata": {},
   "outputs": [
    {
     "data": {
      "text/plain": [
       "<matplotlib.axes._subplots.AxesSubplot at 0x23383b9cac8>"
      ]
     },
     "execution_count": 27,
     "metadata": {},
     "output_type": "execute_result"
    },
    {
     "data": {
      "image/png": "[encoded data removed]",
      "text/plain": [
       "<Figure size 3600x1440 with 1 Axes>"
      ]
     },
     "metadata": {},
     "output_type": "display_data"
    }
   ],
   "source": [
    "sns.set(rc={'figure.figsize':(50,20)})\n",
    "sns.countplot(x = 'seat_count', data = df)"
   ]
  },
  {
   "cell_type": "code",
   "execution_count": 28,
   "metadata": {},
   "outputs": [
    {
     "data": {
      "text/plain": [
       "array([  7.,   5.,   4.,   6.,   9.,   8.,   2.,   3.,   1.,  18.,  20.,\n",
       "        10.,  11.,  15.,  12.,  16.,  14.,  50.,  17.,  74.,  65.,  19.,\n",
       "        54.,  13.,  27.,  45.,  24.,  56.,  22., 255.,  23.,  57.,  25.,\n",
       "        51.,  55.,  61.,  21.,  53.,  26.,  58.,  30.,  36.,   0.,  29.,\n",
       "        52.,  32.,  44., 512.,  33., 515.,  59.,  85., 517.,  81.,  43.,\n",
       "        49., 138.])"
      ]
     },
     "execution_count": 28,
     "metadata": {},
     "output_type": "execute_result"
    }
   ],
   "source": [
    "df.seat_count.unique()"
   ]
  },
  {
   "cell_type": "markdown",
   "metadata": {},
   "source": [
    "##### In this column you have 255 seat count.(Flying car) It's an outlier value."
   ]
  },
  {
   "cell_type": "code",
   "execution_count": 29,
   "metadata": {},
   "outputs": [],
   "source": [
    "df['seat_count'] = df['seat_count'].astype('int')\n",
    "df['door_count'] = df['door_count'].astype('int')"
   ]
  },
  {
   "cell_type": "code",
   "execution_count": 30,
   "metadata": {},
   "outputs": [],
   "source": [
    "seat= df['door_count'].mode()[0]"
   ]
  },
  {
   "cell_type": "markdown",
   "metadata": {},
   "source": [
    "##### Normally cars have less than 6 doors and 12 seats. replace these value in dataset. In this dataset it takes a lot of time to do so. So I will skip this part here."
   ]
  },
  {
   "cell_type": "code",
   "execution_count": 31,
   "metadata": {},
   "outputs": [],
   "source": [
    "# df.apply(lambda row: seat if row['seat_count']>=12 else row['seat_count'], axis=1)"
   ]
  },
  {
   "cell_type": "code",
   "execution_count": 32,
   "metadata": {},
   "outputs": [
    {
     "data": {
      "text/html": [
       "<div>\n",
       "<style scoped>\n",
       "    .dataframe tbody tr th:only-of-type {\n",
       "        vertical-align: middle;\n",
       "    }\n",
       "\n",
       "    .dataframe tbody tr th {\n",
       "        vertical-align: top;\n",
       "    }\n",
       "\n",
       "    .dataframe thead th {\n",
       "        text-align: right;\n",
       "    }\n",
       "</style>\n",
       "<table border=\"1\" class=\"dataframe\">\n",
       "  <thead>\n",
       "    <tr style=\"text-align: right;\">\n",
       "      <th></th>\n",
       "      <th>maker</th>\n",
       "      <th>mileage</th>\n",
       "      <th>engine_displacement</th>\n",
       "      <th>engine_power</th>\n",
       "      <th>transmission</th>\n",
       "      <th>door_count</th>\n",
       "      <th>seat_count</th>\n",
       "      <th>price_eur</th>\n",
       "    </tr>\n",
       "  </thead>\n",
       "  <tbody>\n",
       "    <tr>\n",
       "      <td>0</td>\n",
       "      <td>ford</td>\n",
       "      <td>151000.0</td>\n",
       "      <td>2000.0</td>\n",
       "      <td>103.0</td>\n",
       "      <td>man</td>\n",
       "      <td>5</td>\n",
       "      <td>7</td>\n",
       "      <td>10584.75</td>\n",
       "    </tr>\n",
       "    <tr>\n",
       "      <td>1</td>\n",
       "      <td>skoda</td>\n",
       "      <td>143476.0</td>\n",
       "      <td>2000.0</td>\n",
       "      <td>81.0</td>\n",
       "      <td>man</td>\n",
       "      <td>5</td>\n",
       "      <td>5</td>\n",
       "      <td>8882.31</td>\n",
       "    </tr>\n",
       "    <tr>\n",
       "      <td>2</td>\n",
       "      <td>bmw</td>\n",
       "      <td>97676.0</td>\n",
       "      <td>1995.0</td>\n",
       "      <td>85.0</td>\n",
       "      <td>man</td>\n",
       "      <td>5</td>\n",
       "      <td>5</td>\n",
       "      <td>12065.06</td>\n",
       "    </tr>\n",
       "    <tr>\n",
       "      <td>3</td>\n",
       "      <td>skoda</td>\n",
       "      <td>111970.0</td>\n",
       "      <td>1200.0</td>\n",
       "      <td>47.0</td>\n",
       "      <td>man</td>\n",
       "      <td>5</td>\n",
       "      <td>5</td>\n",
       "      <td>2960.77</td>\n",
       "    </tr>\n",
       "    <tr>\n",
       "      <td>4</td>\n",
       "      <td>skoda</td>\n",
       "      <td>128886.0</td>\n",
       "      <td>1200.0</td>\n",
       "      <td>47.0</td>\n",
       "      <td>man</td>\n",
       "      <td>5</td>\n",
       "      <td>5</td>\n",
       "      <td>2738.71</td>\n",
       "    </tr>\n",
       "  </tbody>\n",
       "</table>\n",
       "</div>"
      ],
      "text/plain": [
       "   maker   mileage  engine_displacement  engine_power transmission  \\\n",
       "0   ford  151000.0               2000.0         103.0          man   \n",
       "1  skoda  143476.0               2000.0          81.0          man   \n",
       "2    bmw   97676.0               1995.0          85.0          man   \n",
       "3  skoda  111970.0               1200.0          47.0          man   \n",
       "4  skoda  128886.0               1200.0          47.0          man   \n",
       "\n",
       "   door_count  seat_count  price_eur  \n",
       "0           5           7   10584.75  \n",
       "1           5           5    8882.31  \n",
       "2           5           5   12065.06  \n",
       "3           5           5    2960.77  \n",
       "4           5           5    2738.71  "
      ]
     },
     "execution_count": 32,
     "metadata": {},
     "output_type": "execute_result"
    }
   ],
   "source": [
    "df.head()"
   ]
  },
  {
   "cell_type": "markdown",
   "metadata": {},
   "source": [
    "# Outlier detection\n",
    "### Univariate "
   ]
  },
  {
   "cell_type": "code",
   "execution_count": 33,
   "metadata": {},
   "outputs": [
    {
     "data": {
      "text/plain": [
       "<matplotlib.axes._subplots.AxesSubplot at 0x23383d04948>"
      ]
     },
     "execution_count": 33,
     "metadata": {},
     "output_type": "execute_result"
    },
    {
     "data": {
      "image/png": "[encoded data removed]",
      "text/plain": [
       "<Figure size 360x288 with 1 Axes>"
      ]
     },
     "metadata": {},
     "output_type": "display_data"
    }
   ],
   "source": [
    "sns.set(rc={'figure.figsize':(5,4)})\n",
    "sns.boxplot(y= df['engine_displacement'])"
   ]
  },
  {
   "cell_type": "code",
   "execution_count": 34,
   "metadata": {},
   "outputs": [
    {
     "data": {
      "text/plain": [
       "(913.5, 2637.5)"
      ]
     },
     "execution_count": 34,
     "metadata": {},
     "output_type": "execute_result"
    }
   ],
   "source": [
    "q1 = np.percentile(df[\"engine_displacement\"],25)\n",
    "q3 = np.percentile(df[\"engine_displacement\"],75)\n",
    "iqr = q3-q1\n",
    "upper = q3+1.5*iqr\n",
    "lower = q1-1.5*iqr\n",
    "lower, upper"
   ]
  },
  {
   "cell_type": "markdown",
   "metadata": {},
   "source": [
    "__They are Lower and uppper bound of boxplot. Values beyond them are outliers.__"
   ]
  },
  {
   "cell_type": "code",
   "execution_count": 35,
   "metadata": {},
   "outputs": [
    {
     "data": {
      "text/plain": [
       "348650"
      ]
     },
     "execution_count": 35,
     "metadata": {},
     "output_type": "execute_result"
    }
   ],
   "source": [
    "df[(df[\"engine_displacement\"]>upper) | (df[\"engine_displacement\"]<lower)].shape[0]"
   ]
  },
  {
   "cell_type": "markdown",
   "metadata": {},
   "source": [
    "348560 values are outliers in engine displacement column. You can winorize, drop, impute, logtransform data to handle outliers."
   ]
  },
  {
   "cell_type": "code",
   "execution_count": 36,
   "metadata": {},
   "outputs": [
    {
     "data": {
      "image/png": "[encoded data removed]",
      "text/plain": [
       "<Figure size 360x288 with 1 Axes>"
      ]
     },
     "metadata": {},
     "output_type": "display_data"
    }
   ],
   "source": [
    "sns.distplot(np.log1p(df[\"price_eur\"]))\n",
    "plt.title(\"Histogram \")\n",
    "plt.show()"
   ]
  },
  {
   "cell_type": "markdown",
   "metadata": {},
   "source": [
    "# Encoding"
   ]
  },
  {
   "cell_type": "code",
   "execution_count": 37,
   "metadata": {},
   "outputs": [],
   "source": [
    "df1 = df.copy()"
   ]
  },
  {
   "cell_type": "code",
   "execution_count": 38,
   "metadata": {},
   "outputs": [
    {
     "data": {
      "text/html": [
       "<div>\n",
       "<style scoped>\n",
       "    .dataframe tbody tr th:only-of-type {\n",
       "        vertical-align: middle;\n",
       "    }\n",
       "\n",
       "    .dataframe tbody tr th {\n",
       "        vertical-align: top;\n",
       "    }\n",
       "\n",
       "    .dataframe thead th {\n",
       "        text-align: right;\n",
       "    }\n",
       "</style>\n",
       "<table border=\"1\" class=\"dataframe\">\n",
       "  <thead>\n",
       "    <tr style=\"text-align: right;\">\n",
       "      <th></th>\n",
       "      <th>maker</th>\n",
       "      <th>mileage</th>\n",
       "      <th>engine_displacement</th>\n",
       "      <th>engine_power</th>\n",
       "      <th>transmission</th>\n",
       "      <th>door_count</th>\n",
       "      <th>seat_count</th>\n",
       "      <th>price_eur</th>\n",
       "    </tr>\n",
       "  </thead>\n",
       "  <tbody>\n",
       "    <tr>\n",
       "      <td>0</td>\n",
       "      <td>ford</td>\n",
       "      <td>151000.0</td>\n",
       "      <td>2000.0</td>\n",
       "      <td>103.0</td>\n",
       "      <td>man</td>\n",
       "      <td>5</td>\n",
       "      <td>7</td>\n",
       "      <td>10584.75</td>\n",
       "    </tr>\n",
       "    <tr>\n",
       "      <td>1</td>\n",
       "      <td>skoda</td>\n",
       "      <td>143476.0</td>\n",
       "      <td>2000.0</td>\n",
       "      <td>81.0</td>\n",
       "      <td>man</td>\n",
       "      <td>5</td>\n",
       "      <td>5</td>\n",
       "      <td>8882.31</td>\n",
       "    </tr>\n",
       "    <tr>\n",
       "      <td>2</td>\n",
       "      <td>bmw</td>\n",
       "      <td>97676.0</td>\n",
       "      <td>1995.0</td>\n",
       "      <td>85.0</td>\n",
       "      <td>man</td>\n",
       "      <td>5</td>\n",
       "      <td>5</td>\n",
       "      <td>12065.06</td>\n",
       "    </tr>\n",
       "    <tr>\n",
       "      <td>3</td>\n",
       "      <td>skoda</td>\n",
       "      <td>111970.0</td>\n",
       "      <td>1200.0</td>\n",
       "      <td>47.0</td>\n",
       "      <td>man</td>\n",
       "      <td>5</td>\n",
       "      <td>5</td>\n",
       "      <td>2960.77</td>\n",
       "    </tr>\n",
       "    <tr>\n",
       "      <td>4</td>\n",
       "      <td>skoda</td>\n",
       "      <td>128886.0</td>\n",
       "      <td>1200.0</td>\n",
       "      <td>47.0</td>\n",
       "      <td>man</td>\n",
       "      <td>5</td>\n",
       "      <td>5</td>\n",
       "      <td>2738.71</td>\n",
       "    </tr>\n",
       "  </tbody>\n",
       "</table>\n",
       "</div>"
      ],
      "text/plain": [
       "   maker   mileage  engine_displacement  engine_power transmission  \\\n",
       "0   ford  151000.0               2000.0         103.0          man   \n",
       "1  skoda  143476.0               2000.0          81.0          man   \n",
       "2    bmw   97676.0               1995.0          85.0          man   \n",
       "3  skoda  111970.0               1200.0          47.0          man   \n",
       "4  skoda  128886.0               1200.0          47.0          man   \n",
       "\n",
       "   door_count  seat_count  price_eur  \n",
       "0           5           7   10584.75  \n",
       "1           5           5    8882.31  \n",
       "2           5           5   12065.06  \n",
       "3           5           5    2960.77  \n",
       "4           5           5    2738.71  "
      ]
     },
     "execution_count": 38,
     "metadata": {},
     "output_type": "execute_result"
    }
   ],
   "source": [
    "df1.head()"
   ]
  },
  {
   "cell_type": "markdown",
   "metadata": {},
   "source": [
    "### Label encoding\n",
    "\n",
    "If you have a large number of classes in a categorical feature, you can use label encoding. Label encoding assigns a unique label (integer number) to a specific class. "
   ]
  },
  {
   "cell_type": "code",
   "execution_count": 39,
   "metadata": {},
   "outputs": [
    {
     "data": {
      "text/html": [
       "<div>\n",
       "<style scoped>\n",
       "    .dataframe tbody tr th:only-of-type {\n",
       "        vertical-align: middle;\n",
       "    }\n",
       "\n",
       "    .dataframe tbody tr th {\n",
       "        vertical-align: top;\n",
       "    }\n",
       "\n",
       "    .dataframe thead th {\n",
       "        text-align: right;\n",
       "    }\n",
       "</style>\n",
       "<table border=\"1\" class=\"dataframe\">\n",
       "  <thead>\n",
       "    <tr style=\"text-align: right;\">\n",
       "      <th></th>\n",
       "      <th>maker</th>\n",
       "      <th>mileage</th>\n",
       "      <th>engine_displacement</th>\n",
       "      <th>engine_power</th>\n",
       "      <th>transmission</th>\n",
       "      <th>door_count</th>\n",
       "      <th>seat_count</th>\n",
       "      <th>price_eur</th>\n",
       "    </tr>\n",
       "  </thead>\n",
       "  <tbody>\n",
       "    <tr>\n",
       "      <td>0</td>\n",
       "      <td>11</td>\n",
       "      <td>151000.0</td>\n",
       "      <td>2000.0</td>\n",
       "      <td>103.0</td>\n",
       "      <td>man</td>\n",
       "      <td>5</td>\n",
       "      <td>7</td>\n",
       "      <td>10584.75</td>\n",
       "    </tr>\n",
       "    <tr>\n",
       "      <td>1</td>\n",
       "      <td>38</td>\n",
       "      <td>143476.0</td>\n",
       "      <td>2000.0</td>\n",
       "      <td>81.0</td>\n",
       "      <td>man</td>\n",
       "      <td>5</td>\n",
       "      <td>5</td>\n",
       "      <td>8882.31</td>\n",
       "    </tr>\n",
       "    <tr>\n",
       "      <td>2</td>\n",
       "      <td>4</td>\n",
       "      <td>97676.0</td>\n",
       "      <td>1995.0</td>\n",
       "      <td>85.0</td>\n",
       "      <td>man</td>\n",
       "      <td>5</td>\n",
       "      <td>5</td>\n",
       "      <td>12065.06</td>\n",
       "    </tr>\n",
       "    <tr>\n",
       "      <td>3</td>\n",
       "      <td>38</td>\n",
       "      <td>111970.0</td>\n",
       "      <td>1200.0</td>\n",
       "      <td>47.0</td>\n",
       "      <td>man</td>\n",
       "      <td>5</td>\n",
       "      <td>5</td>\n",
       "      <td>2960.77</td>\n",
       "    </tr>\n",
       "    <tr>\n",
       "      <td>4</td>\n",
       "      <td>38</td>\n",
       "      <td>128886.0</td>\n",
       "      <td>1200.0</td>\n",
       "      <td>47.0</td>\n",
       "      <td>man</td>\n",
       "      <td>5</td>\n",
       "      <td>5</td>\n",
       "      <td>2738.71</td>\n",
       "    </tr>\n",
       "  </tbody>\n",
       "</table>\n",
       "</div>"
      ],
      "text/plain": [
       "   maker   mileage  engine_displacement  engine_power transmission  \\\n",
       "0     11  151000.0               2000.0         103.0          man   \n",
       "1     38  143476.0               2000.0          81.0          man   \n",
       "2      4   97676.0               1995.0          85.0          man   \n",
       "3     38  111970.0               1200.0          47.0          man   \n",
       "4     38  128886.0               1200.0          47.0          man   \n",
       "\n",
       "   door_count  seat_count  price_eur  \n",
       "0           5           7   10584.75  \n",
       "1           5           5    8882.31  \n",
       "2           5           5   12065.06  \n",
       "3           5           5    2960.77  \n",
       "4           5           5    2738.71  "
      ]
     },
     "execution_count": 39,
     "metadata": {},
     "output_type": "execute_result"
    }
   ],
   "source": [
    "from sklearn.preprocessing import LabelEncoder\n",
    "lb_make = LabelEncoder()\n",
    "df1['maker'] = lb_make.fit_transform(df1['maker'])\n",
    "df1.head() #Results in appending a new column to df"
   ]
  },
  {
   "cell_type": "markdown",
   "metadata": {},
   "source": [
    "### One Hot Encoding\n",
    "\n",
    "One-hot encoding uses binary values to represent classes. It creates a feature per category, and can quickly become inefficient as the number of classes in the categorical feature increases. We demonstrate how to use this below:"
   ]
  },
  {
   "cell_type": "code",
   "execution_count": 40,
   "metadata": {},
   "outputs": [],
   "source": [
    "one_hot_encoded_data = pd.get_dummies(df1, columns=['maker','transmission'], prefix = ['maker','transmission'])"
   ]
  },
  {
   "cell_type": "code",
   "execution_count": 41,
   "metadata": {},
   "outputs": [
    {
     "data": {
      "text/plain": [
       "(3552912, 54)"
      ]
     },
     "execution_count": 41,
     "metadata": {},
     "output_type": "execute_result"
    }
   ],
   "source": [
    "one_hot_encoded_data.shape"
   ]
  },
  {
   "cell_type": "code",
   "execution_count": 42,
   "metadata": {},
   "outputs": [
    {
     "data": {
      "text/html": [
       "<div>\n",
       "<style scoped>\n",
       "    .dataframe tbody tr th:only-of-type {\n",
       "        vertical-align: middle;\n",
       "    }\n",
       "\n",
       "    .dataframe tbody tr th {\n",
       "        vertical-align: top;\n",
       "    }\n",
       "\n",
       "    .dataframe thead th {\n",
       "        text-align: right;\n",
       "    }\n",
       "</style>\n",
       "<table border=\"1\" class=\"dataframe\">\n",
       "  <thead>\n",
       "    <tr style=\"text-align: right;\">\n",
       "      <th></th>\n",
       "      <th>mileage</th>\n",
       "      <th>engine_displacement</th>\n",
       "      <th>engine_power</th>\n",
       "      <th>door_count</th>\n",
       "      <th>seat_count</th>\n",
       "      <th>price_eur</th>\n",
       "      <th>maker_0</th>\n",
       "      <th>maker_1</th>\n",
       "      <th>maker_2</th>\n",
       "      <th>maker_3</th>\n",
       "      <th>...</th>\n",
       "      <th>maker_38</th>\n",
       "      <th>maker_39</th>\n",
       "      <th>maker_40</th>\n",
       "      <th>maker_41</th>\n",
       "      <th>maker_42</th>\n",
       "      <th>maker_43</th>\n",
       "      <th>maker_44</th>\n",
       "      <th>maker_45</th>\n",
       "      <th>transmission_auto</th>\n",
       "      <th>transmission_man</th>\n",
       "    </tr>\n",
       "  </thead>\n",
       "  <tbody>\n",
       "    <tr>\n",
       "      <td>0</td>\n",
       "      <td>151000.0</td>\n",
       "      <td>2000.0</td>\n",
       "      <td>103.0</td>\n",
       "      <td>5</td>\n",
       "      <td>7</td>\n",
       "      <td>10584.75</td>\n",
       "      <td>0</td>\n",
       "      <td>0</td>\n",
       "      <td>0</td>\n",
       "      <td>0</td>\n",
       "      <td>...</td>\n",
       "      <td>0</td>\n",
       "      <td>0</td>\n",
       "      <td>0</td>\n",
       "      <td>0</td>\n",
       "      <td>0</td>\n",
       "      <td>0</td>\n",
       "      <td>0</td>\n",
       "      <td>0</td>\n",
       "      <td>0</td>\n",
       "      <td>1</td>\n",
       "    </tr>\n",
       "    <tr>\n",
       "      <td>1</td>\n",
       "      <td>143476.0</td>\n",
       "      <td>2000.0</td>\n",
       "      <td>81.0</td>\n",
       "      <td>5</td>\n",
       "      <td>5</td>\n",
       "      <td>8882.31</td>\n",
       "      <td>0</td>\n",
       "      <td>0</td>\n",
       "      <td>0</td>\n",
       "      <td>0</td>\n",
       "      <td>...</td>\n",
       "      <td>1</td>\n",
       "      <td>0</td>\n",
       "      <td>0</td>\n",
       "      <td>0</td>\n",
       "      <td>0</td>\n",
       "      <td>0</td>\n",
       "      <td>0</td>\n",
       "      <td>0</td>\n",
       "      <td>0</td>\n",
       "      <td>1</td>\n",
       "    </tr>\n",
       "    <tr>\n",
       "      <td>2</td>\n",
       "      <td>97676.0</td>\n",
       "      <td>1995.0</td>\n",
       "      <td>85.0</td>\n",
       "      <td>5</td>\n",
       "      <td>5</td>\n",
       "      <td>12065.06</td>\n",
       "      <td>0</td>\n",
       "      <td>0</td>\n",
       "      <td>0</td>\n",
       "      <td>0</td>\n",
       "      <td>...</td>\n",
       "      <td>0</td>\n",
       "      <td>0</td>\n",
       "      <td>0</td>\n",
       "      <td>0</td>\n",
       "      <td>0</td>\n",
       "      <td>0</td>\n",
       "      <td>0</td>\n",
       "      <td>0</td>\n",
       "      <td>0</td>\n",
       "      <td>1</td>\n",
       "    </tr>\n",
       "  </tbody>\n",
       "</table>\n",
       "<p>3 rows × 54 columns</p>\n",
       "</div>"
      ],
      "text/plain": [
       "    mileage  engine_displacement  engine_power  door_count  seat_count  \\\n",
       "0  151000.0               2000.0         103.0           5           7   \n",
       "1  143476.0               2000.0          81.0           5           5   \n",
       "2   97676.0               1995.0          85.0           5           5   \n",
       "\n",
       "   price_eur  maker_0  maker_1  maker_2  maker_3  ...  maker_38  maker_39  \\\n",
       "0   10584.75        0        0        0        0  ...         0         0   \n",
       "1    8882.31        0        0        0        0  ...         1         0   \n",
       "2   12065.06        0        0        0        0  ...         0         0   \n",
       "\n",
       "   maker_40  maker_41  maker_42  maker_43  maker_44  maker_45  \\\n",
       "0         0         0         0         0         0         0   \n",
       "1         0         0         0         0         0         0   \n",
       "2         0         0         0         0         0         0   \n",
       "\n",
       "   transmission_auto  transmission_man  \n",
       "0                  0                 1  \n",
       "1                  0                 1  \n",
       "2                  0                 1  \n",
       "\n",
       "[3 rows x 54 columns]"
      ]
     },
     "execution_count": 42,
     "metadata": {},
     "output_type": "execute_result"
    }
   ],
   "source": [
    "one_hot_encoded_data.head(3)"
   ]
  },
  {
   "cell_type": "markdown",
   "metadata": {},
   "source": [
    "Sometimes you may encounter categorical feature columns which specify the ranges of values for observation points, for example, the age column might be described in the form of categories like 0-20, 20-40 and so on. "
   ]
  },
  {
   "cell_type": "markdown",
   "metadata": {},
   "source": [
    "In the above data you can use `PCA` for dimension reduction."
   ]
  },
  {
   "cell_type": "markdown",
   "metadata": {},
   "source": [
    "# Feature scaling/Normalization of Features\n",
    "\n",
    "In this section let's use number type column only."
   ]
  },
  {
   "cell_type": "code",
   "execution_count": 43,
   "metadata": {},
   "outputs": [],
   "source": [
    "from sklearn.preprocessing import MinMaxScaler\n",
    "from sklearn.preprocessing import minmax_scale\n",
    "from sklearn.preprocessing import MaxAbsScaler\n",
    "from sklearn.preprocessing import StandardScaler\n",
    "from sklearn.preprocessing import RobustScaler\n",
    "from sklearn.preprocessing import Normalizer\n",
    "from sklearn.preprocessing import QuantileTransformer\n",
    "from sklearn.preprocessing import PowerTransformer"
   ]
  },
  {
   "cell_type": "code",
   "execution_count": 44,
   "metadata": {},
   "outputs": [],
   "source": [
    "number_type_data = df.select_dtypes(include=['number'])"
   ]
  },
  {
   "cell_type": "code",
   "execution_count": 45,
   "metadata": {},
   "outputs": [
    {
     "data": {
      "text/html": [
       "<div>\n",
       "<style scoped>\n",
       "    .dataframe tbody tr th:only-of-type {\n",
       "        vertical-align: middle;\n",
       "    }\n",
       "\n",
       "    .dataframe tbody tr th {\n",
       "        vertical-align: top;\n",
       "    }\n",
       "\n",
       "    .dataframe thead th {\n",
       "        text-align: right;\n",
       "    }\n",
       "</style>\n",
       "<table border=\"1\" class=\"dataframe\">\n",
       "  <thead>\n",
       "    <tr style=\"text-align: right;\">\n",
       "      <th></th>\n",
       "      <th>mileage</th>\n",
       "      <th>engine_displacement</th>\n",
       "      <th>engine_power</th>\n",
       "      <th>door_count</th>\n",
       "      <th>seat_count</th>\n",
       "      <th>price_eur</th>\n",
       "    </tr>\n",
       "  </thead>\n",
       "  <tbody>\n",
       "    <tr>\n",
       "      <td>0</td>\n",
       "      <td>151000.0</td>\n",
       "      <td>2000.0</td>\n",
       "      <td>103.0</td>\n",
       "      <td>5</td>\n",
       "      <td>7</td>\n",
       "      <td>10584.75</td>\n",
       "    </tr>\n",
       "    <tr>\n",
       "      <td>1</td>\n",
       "      <td>143476.0</td>\n",
       "      <td>2000.0</td>\n",
       "      <td>81.0</td>\n",
       "      <td>5</td>\n",
       "      <td>5</td>\n",
       "      <td>8882.31</td>\n",
       "    </tr>\n",
       "    <tr>\n",
       "      <td>2</td>\n",
       "      <td>97676.0</td>\n",
       "      <td>1995.0</td>\n",
       "      <td>85.0</td>\n",
       "      <td>5</td>\n",
       "      <td>5</td>\n",
       "      <td>12065.06</td>\n",
       "    </tr>\n",
       "    <tr>\n",
       "      <td>3</td>\n",
       "      <td>111970.0</td>\n",
       "      <td>1200.0</td>\n",
       "      <td>47.0</td>\n",
       "      <td>5</td>\n",
       "      <td>5</td>\n",
       "      <td>2960.77</td>\n",
       "    </tr>\n",
       "    <tr>\n",
       "      <td>4</td>\n",
       "      <td>128886.0</td>\n",
       "      <td>1200.0</td>\n",
       "      <td>47.0</td>\n",
       "      <td>5</td>\n",
       "      <td>5</td>\n",
       "      <td>2738.71</td>\n",
       "    </tr>\n",
       "  </tbody>\n",
       "</table>\n",
       "</div>"
      ],
      "text/plain": [
       "    mileage  engine_displacement  engine_power  door_count  seat_count  \\\n",
       "0  151000.0               2000.0         103.0           5           7   \n",
       "1  143476.0               2000.0          81.0           5           5   \n",
       "2   97676.0               1995.0          85.0           5           5   \n",
       "3  111970.0               1200.0          47.0           5           5   \n",
       "4  128886.0               1200.0          47.0           5           5   \n",
       "\n",
       "   price_eur  \n",
       "0   10584.75  \n",
       "1    8882.31  \n",
       "2   12065.06  \n",
       "3    2960.77  \n",
       "4    2738.71  "
      ]
     },
     "execution_count": 45,
     "metadata": {},
     "output_type": "execute_result"
    }
   ],
   "source": [
    "number_type_data.head()"
   ]
  },
  {
   "cell_type": "code",
   "execution_count": 46,
   "metadata": {},
   "outputs": [],
   "source": [
    "X = df[['mileage','engine_displacement','engine_power', 'door_count', 'seat_count']]"
   ]
  },
  {
   "cell_type": "code",
   "execution_count": 47,
   "metadata": {},
   "outputs": [],
   "source": [
    "y_full = df[['price_eur']]"
   ]
  },
  {
   "cell_type": "code",
   "execution_count": 48,
   "metadata": {},
   "outputs": [
    {
     "data": {
      "text/plain": [
       "array([[ 1.17699245e-01,  4.26954145e-03,  1.43013019e-01,\n",
       "         1.16743970e+00,  2.14665681e+00],\n",
       "       [ 9.45084555e-02,  4.26954145e-03, -3.42582964e-01,\n",
       "         1.16743970e+00,  8.56357199e-02],\n",
       "       [-4.66582310e-02,  1.42569713e-03, -2.54292785e-01,\n",
       "         1.16743970e+00,  8.56357199e-02],\n",
       "       ...,\n",
       "       [ 3.61196368e-01, -5.26073450e-02,  7.67953850e-02,\n",
       "        -4.38120579e-02,  8.56357199e-02],\n",
       "       [-8.13673589e-02, -1.10621769e-01, -2.32220241e-01,\n",
       "        -4.38120579e-02,  8.56357199e-02],\n",
       "       [-8.13673589e-02, -1.10621769e-01, -2.32220241e-01,\n",
       "        -4.38120579e-02,  8.56357199e-02]])"
      ]
     },
     "execution_count": 48,
     "metadata": {},
     "output_type": "execute_result"
    }
   ],
   "source": [
    "StandardScaler().fit_transform(X) # Data after standard scaling"
   ]
  },
  {
   "cell_type": "code",
   "execution_count": 49,
   "metadata": {},
   "outputs": [
    {
     "data": {
      "text/plain": [
       "array([[0.0151    , 0.06103702, 0.04561717, 0.06493506, 0.01353965],\n",
       "       [0.0143476 , 0.06103702, 0.03577818, 0.06493506, 0.00967118],\n",
       "       [0.0097676 , 0.06088443, 0.03756708, 0.06493506, 0.00967118],\n",
       "       ...,\n",
       "       [0.023     , 0.05798517, 0.04427549, 0.05194805, 0.00967118],\n",
       "       [0.0086415 , 0.05487228, 0.03801431, 0.05194805, 0.00967118],\n",
       "       [0.0086415 , 0.05487228, 0.03801431, 0.05194805, 0.00967118]])"
      ]
     },
     "execution_count": 49,
     "metadata": {},
     "output_type": "execute_result"
    }
   ],
   "source": [
    "MinMaxScaler().fit_transform(X) #Data after min-max scaling"
   ]
  },
  {
   "cell_type": "code",
   "execution_count": 50,
   "metadata": {},
   "outputs": [
    {
     "data": {
      "text/plain": [
       "array([[0.0151    , 0.06103702, 0.04604381, 0.06493506, 0.01353965],\n",
       "       [0.0143476 , 0.06103702, 0.03620921, 0.06493506, 0.00967118],\n",
       "       [0.0097676 , 0.06088443, 0.03799732, 0.06493506, 0.00967118],\n",
       "       ...,\n",
       "       [0.023     , 0.05798517, 0.04470273, 0.05194805, 0.00967118],\n",
       "       [0.0086415 , 0.05487228, 0.03844435, 0.05194805, 0.00967118],\n",
       "       [0.0086415 , 0.05487228, 0.03844435, 0.05194805, 0.00967118]])"
      ]
     },
     "execution_count": 50,
     "metadata": {},
     "output_type": "execute_result"
    }
   ],
   "source": [
    "MaxAbsScaler().fit_transform(X) # Data after max-abs scaling"
   ]
  },
  {
   "cell_type": "code",
   "execution_count": 51,
   "metadata": {},
   "outputs": [
    {
     "data": {
      "text/plain": [
       "array([[ 0.51142156,  0.46867749,  0.47222222,  1.        ,  2.        ],\n",
       "       [ 0.45184216,  0.46867749, -0.13888889,  1.        ,  0.        ],\n",
       "       [ 0.08917114,  0.45707657, -0.02777778,  1.        ,  0.        ],\n",
       "       ...,\n",
       "       [ 1.13698947,  0.23665893,  0.38888889,  0.        ,  0.        ],\n",
       "       [ 0.        ,  0.        ,  0.        ,  0.        ,  0.        ],\n",
       "       [ 0.        ,  0.        ,  0.        ,  0.        ,  0.        ]])"
      ]
     },
     "execution_count": 51,
     "metadata": {},
     "output_type": "execute_result"
    }
   ],
   "source": [
    "RobustScaler(quantile_range=(25, 75)).fit_transform(X) #Data after robust scaling"
   ]
  },
  {
   "cell_type": "code",
   "execution_count": 52,
   "metadata": {},
   "outputs": [
    {
     "data": {
      "text/plain": [
       "array([[ 0.67983807,  0.32724965,  0.4145579 ,  1.19479851,  2.39741064],\n",
       "       [ 0.637516  ,  0.32724965, -0.21371878,  1.19479851,  0.12451887],\n",
       "       [ 0.33900375,  0.32036725, -0.08517045,  1.19479851,  0.12451887],\n",
       "       ...,\n",
       "       [ 1.05392795,  0.18553007,  0.3389445 , -0.06960123,  0.12451887],\n",
       "       [ 0.25087755,  0.03144928, -0.05417033, -0.06960123,  0.12451887],\n",
       "       [ 0.25087755,  0.03144928, -0.05417033, -0.06960123,  0.12451887]])"
      ]
     },
     "execution_count": 52,
     "metadata": {},
     "output_type": "execute_result"
    }
   ],
   "source": [
    "PowerTransformer(method='yeo-johnson').fit_transform(X) #Data after power transformation (Yeo-Johnson)"
   ]
  },
  {
   "cell_type": "code",
   "execution_count": 53,
   "metadata": {},
   "outputs": [
    {
     "data": {
      "text/plain": [
       "array([[ 6.99108088e-01,  9.59439593e-01,  5.40882478e-01,\n",
       "         1.14731550e+00,  2.06377516e+00],\n",
       "       [ 6.18532447e-01,  9.59439593e-01, -3.60171724e-01,\n",
       "         1.14731550e+00,  8.28963782e-02],\n",
       "       [ 2.31251293e-01,  7.39737219e-01, -2.38089328e-01,\n",
       "         1.14731550e+00,  8.28963782e-02],\n",
       "       ...,\n",
       "       [ 1.47526936e+00,  3.89783431e-01,  4.39001209e-01,\n",
       "        -1.61281273e-01,  8.28963782e-02],\n",
       "       [ 6.27288467e-03,  3.76371500e-03,  1.25456904e-03,\n",
       "        -1.61281273e-01,  8.28963782e-02],\n",
       "       [ 6.27288467e-03,  3.76371500e-03,  1.25456904e-03,\n",
       "        -1.61281273e-01,  8.28963782e-02]])"
      ]
     },
     "execution_count": 53,
     "metadata": {},
     "output_type": "execute_result"
    }
   ],
   "source": [
    "QuantileTransformer(output_distribution='normal').fit_transform(X) #Data after quantile transformation (gaussian pdf)"
   ]
  },
  {
   "cell_type": "code",
   "execution_count": 54,
   "metadata": {},
   "outputs": [],
   "source": [
    "y = minmax_scale(y_full)"
   ]
  },
  {
   "cell_type": "code",
   "execution_count": 55,
   "metadata": {},
   "outputs": [
    {
     "data": {
      "text/plain": [
       "array([[3.91135514e-09],\n",
       "       [3.28225453e-09],\n",
       "       [4.45837231e-09],\n",
       "       ...,\n",
       "       [4.78650649e-10],\n",
       "       [4.78650649e-10],\n",
       "       [4.78650649e-10]])"
      ]
     },
     "execution_count": 55,
     "metadata": {},
     "output_type": "execute_result"
    }
   ],
   "source": [
    "y"
   ]
  },
  {
   "cell_type": "markdown",
   "metadata": {},
   "source": [
    "# END"
   ]
  },
  {
   "cell_type": "code",
   "execution_count": null,
   "metadata": {},
   "outputs": [],
   "source": []
  }
 ],
 "metadata": {
  "kernelspec": {
   "display_name": "Python 3",
   "language": "python",
   "name": "python3"
  },
  "language_info": {
   "codemirror_mode": {
    "name": "ipython",
    "version": 3
   },
   "file_extension": ".py",
   "mimetype": "text/x-python",
   "name": "python",
   "nbconvert_exporter": "python",
   "pygments_lexer": "ipython3",
   "version": "3.7.4"
  }
 },
 "nbformat": 4,
 "nbformat_minor": 2
}
